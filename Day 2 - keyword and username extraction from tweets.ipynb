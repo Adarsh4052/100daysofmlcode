{
 "cells": [
  {
   "cell_type": "code",
   "execution_count": 26,
   "metadata": {},
   "outputs": [],
   "source": [
    "import pandas as pd"
   ]
  },
  {
   "cell_type": "code",
   "execution_count": 45,
   "metadata": {},
   "outputs": [],
   "source": [
    "# set column width to see the columns properly\n",
    "pd.set_option('display.max_colwidth', 100)"
   ]
  },
  {
   "cell_type": "code",
   "execution_count": 28,
   "metadata": {},
   "outputs": [],
   "source": [
    "# read the csv file where tweets are stored\n",
    "df = pd.read_csv(r\"dataset/AvengersEndgame_tweets.csv\" , sep=',', encoding='cp1252')"
   ]
  },
  {
   "cell_type": "code",
   "execution_count": 29,
   "metadata": {},
   "outputs": [
    {
     "data": {
      "text/plain": [
       "(15000, 17)"
      ]
     },
     "execution_count": 29,
     "metadata": {},
     "output_type": "execute_result"
    }
   ],
   "source": [
    "df.shape"
   ]
  },
  {
   "cell_type": "code",
   "execution_count": 30,
   "metadata": {},
   "outputs": [],
   "source": [
    "# in this file we are gonna only work on the text data\n",
    "text = df[['text']]"
   ]
  },
  {
   "cell_type": "code",
   "execution_count": 32,
   "metadata": {},
   "outputs": [
    {
     "name": "stdout",
     "output_type": "stream",
     "text": [
      "text\n",
      "RT @MCU_Direct: Some of the Avengers' main men - Thor (@chrishemsworth), Captain America (@ChrisEvans), Ant-Man (Paul Rudd) &amp; Bruce Banner…\n",
      "RT @Marvel: Black Widow herself, Scarlett Johansson. #BlackWidow #AvengersEndgame https://t.co/UNyj3gWW65\n",
      "RT @HelloBoon: Man these #AvengersEndgame ads are everywhere https://t.co/Q0lNf5eJsX\n",
      "RT @Marvel: We salute you, @ChrisEvans! #CaptainAmerica #AvengersEndgame https://t.co/VlPEpnXYgm\n",
      "\"@TicketNew Noted and Agreed team<U+2714><U+FE0F>\r\n",
      " <U+0001F380>@TicketNew<U+0001F380> \r\n",
      "\r\n",
      "#Endgame #AvengersEndgame #AVENGERS #AvengersEndgameOnTicketNew… https://t.co/gBHPrLym3K\"\n",
      "RT @itsjustanx: Elizabeth Olsen looks absolutely STUNNING tonight. #AvengersEndgame https://t.co/Ce9oqyfOZm\n",
      "RT @NikkieTutorials: reason number 7241 why to stan Brie Larson <U+2728> #AvengersEndgame https://t.co/etdChrEsfC\n",
      "RT @Marvel: Elizabeth Olsen, bringing the magic<U+2728>. #ScarletWitch #AvengersEndgame https://t.co/usvjuk55Kv\n",
      "\"RT @CobieSmulders: Ooooooh, you guys. It’s so good...\r\n",
      "#AvengersEndgame\"\n",
      "RT @Marvel_FFightUS: We will take the fight back to him, and we will win. #AvengersEndgame #MARVELFutureFight https://t.co/U4Jc0OP8qe\n",
      "\"RT @natsdany: First time                  Last time           \r\n",
      "with the avengers     with the avengers\r\n",
      "2010                         2019\r\n",
      "\r\n",
      "#…\"\n",
      "RT @MTVNEWS: The #AvengersEndgame cast has seen a lot of each other over the years, so we figured they could handle a game of Name The @Ave…\n",
      "\"@SPICinemas kindly announce the approximate timings for imax tickets booking for endgame. Pls\r\n",
      "@bookmyshow #AvengersEndgame #WhateverItTakes\"\n",
      "RT @Marvel: We salute you, @ChrisEvans! #CaptainAmerica #AvengersEndgame https://t.co/VlPEpnXYgm\n",
      "RT @Avengers: Welcome to the party, @RobertDowneyJr! #IronMan #AvengersEndgame https://t.co/vLttl0LCqE\n",
      "\n"
     ]
    }
   ],
   "source": [
    "print(text.tail(15).to_csv(sep='\\n', index=False))"
   ]
  },
  {
   "cell_type": "code",
   "execution_count": 37,
   "metadata": {},
   "outputs": [
    {
     "name": "stderr",
     "output_type": "stream",
     "text": [
      "C:\\ProgramData\\Anaconda3\\lib\\site-packages\\ipykernel_launcher.py:15: SettingWithCopyWarning: \n",
      "A value is trying to be set on a copy of a slice from a DataFrame.\n",
      "Try using .loc[row_indexer,col_indexer] = value instead\n",
      "\n",
      "See the caveats in the documentation: http://pandas.pydata.org/pandas-docs/stable/indexing.html#indexing-view-versus-copy\n",
      "  from ipykernel import kernelapp as app\n"
     ]
    }
   ],
   "source": [
    "# keyword extraction from tweets\n",
    "\n",
    "list_of_lists = []\n",
    "\n",
    "def keyword_list(x):\n",
    "    list_of_keywords = []\n",
    "    words = x.split()\n",
    "    for word in words:\n",
    "        if word.startswith('#'):\n",
    "            list_of_keywords.append(word)\n",
    "    list_of_lists.append(list_of_keywords)\n",
    "        \n",
    "\n",
    "text['text'].apply( lambda tweet : keyword_list(tweet) )\n",
    "text['keywords'] = list_of_lists\n"
   ]
  },
  {
   "cell_type": "code",
   "execution_count": 41,
   "metadata": {},
   "outputs": [
    {
     "data": {
      "text/html": [
       "<div>\n",
       "<style scoped>\n",
       "    .dataframe tbody tr th:only-of-type {\n",
       "        vertical-align: middle;\n",
       "    }\n",
       "\n",
       "    .dataframe tbody tr th {\n",
       "        vertical-align: top;\n",
       "    }\n",
       "\n",
       "    .dataframe thead th {\n",
       "        text-align: right;\n",
       "    }\n",
       "</style>\n",
       "<table border=\"1\" class=\"dataframe\">\n",
       "  <thead>\n",
       "    <tr style=\"text-align: right;\">\n",
       "      <th></th>\n",
       "      <th>keywords</th>\n",
       "    </tr>\n",
       "  </thead>\n",
       "  <tbody>\n",
       "    <tr>\n",
       "      <th>0</th>\n",
       "      <td>[#AvengersEndgame]</td>\n",
       "    </tr>\n",
       "    <tr>\n",
       "      <th>1</th>\n",
       "      <td>[#blackwidow, #captainamerica]</td>\n",
       "    </tr>\n",
       "    <tr>\n",
       "      <th>2</th>\n",
       "      <td>[#AvengersEndgame]</td>\n",
       "    </tr>\n",
       "    <tr>\n",
       "      <th>3</th>\n",
       "      <td>[#AvengersEndgame]</td>\n",
       "    </tr>\n",
       "    <tr>\n",
       "      <th>4</th>\n",
       "      <td>[#CaptainAmerica, #AvengersEndgame]</td>\n",
       "    </tr>\n",
       "    <tr>\n",
       "      <th>5</th>\n",
       "      <td>[#AvengersEndgame]</td>\n",
       "    </tr>\n",
       "    <tr>\n",
       "      <th>6</th>\n",
       "      <td>[#excited, #avengersendgame, #presstourcontinues, #worldpremiere, #endgame]</td>\n",
       "    </tr>\n",
       "    <tr>\n",
       "      <th>7</th>\n",
       "      <td>[#WinterSoldier, #AvengersEndgame]</td>\n",
       "    </tr>\n",
       "    <tr>\n",
       "      <th>8</th>\n",
       "      <td>[#AvengersEndgame]</td>\n",
       "    </tr>\n",
       "    <tr>\n",
       "      <th>9</th>\n",
       "      <td>[#AvengersEndgame]</td>\n",
       "    </tr>\n",
       "  </tbody>\n",
       "</table>\n",
       "</div>"
      ],
      "text/plain": [
       "                                                                      keywords\n",
       "0                                                           [#AvengersEndgame]\n",
       "1                                               [#blackwidow, #captainamerica]\n",
       "2                                                           [#AvengersEndgame]\n",
       "3                                                           [#AvengersEndgame]\n",
       "4                                          [#CaptainAmerica, #AvengersEndgame]\n",
       "5                                                           [#AvengersEndgame]\n",
       "6  [#excited, #avengersendgame, #presstourcontinues, #worldpremiere, #endgame]\n",
       "7                                           [#WinterSoldier, #AvengersEndgame]\n",
       "8                                                           [#AvengersEndgame]\n",
       "9                                                           [#AvengersEndgame]"
      ]
     },
     "execution_count": 41,
     "metadata": {},
     "output_type": "execute_result"
    }
   ],
   "source": [
    "text[['keywords']].head(10)"
   ]
  },
  {
   "cell_type": "code",
   "execution_count": 35,
   "metadata": {},
   "outputs": [
    {
     "name": "stderr",
     "output_type": "stream",
     "text": [
      "C:\\ProgramData\\Anaconda3\\lib\\site-packages\\ipykernel_launcher.py:15: SettingWithCopyWarning: \n",
      "A value is trying to be set on a copy of a slice from a DataFrame.\n",
      "Try using .loc[row_indexer,col_indexer] = value instead\n",
      "\n",
      "See the caveats in the documentation: http://pandas.pydata.org/pandas-docs/stable/indexing.html#indexing-view-versus-copy\n",
      "  from ipykernel import kernelapp as app\n"
     ]
    }
   ],
   "source": [
    "# username extraction from tweets\n",
    "\n",
    "list_of_lists = []\n",
    "\n",
    "def usernames_list(x):\n",
    "    list_of_usernames = []\n",
    "    words = x.split()\n",
    "    for word in words:\n",
    "        if word.startswith('@'):\n",
    "            list_of_usernames.append(word)\n",
    "    list_of_lists.append(list_of_usernames)\n",
    "        \n",
    "\n",
    "text['text'].apply( lambda tweet : usernames_list(tweet) )\n",
    "text['usernames'] = list_of_lists\n"
   ]
  },
  {
   "cell_type": "code",
   "execution_count": 47,
   "metadata": {},
   "outputs": [
    {
     "data": {
      "text/html": [
       "<div>\n",
       "<style scoped>\n",
       "    .dataframe tbody tr th:only-of-type {\n",
       "        vertical-align: middle;\n",
       "    }\n",
       "\n",
       "    .dataframe tbody tr th {\n",
       "        vertical-align: top;\n",
       "    }\n",
       "\n",
       "    .dataframe thead th {\n",
       "        text-align: right;\n",
       "    }\n",
       "</style>\n",
       "<table border=\"1\" class=\"dataframe\">\n",
       "  <thead>\n",
       "    <tr style=\"text-align: right;\">\n",
       "      <th></th>\n",
       "      <th>usernames</th>\n",
       "    </tr>\n",
       "  </thead>\n",
       "  <tbody>\n",
       "    <tr>\n",
       "      <th>14985</th>\n",
       "      <td>[@MCU_Direct:]</td>\n",
       "    </tr>\n",
       "    <tr>\n",
       "      <th>14986</th>\n",
       "      <td>[@Marvel:]</td>\n",
       "    </tr>\n",
       "    <tr>\n",
       "      <th>14987</th>\n",
       "      <td>[@HelloBoon:]</td>\n",
       "    </tr>\n",
       "    <tr>\n",
       "      <th>14988</th>\n",
       "      <td>[@Marvel:, @ChrisEvans!]</td>\n",
       "    </tr>\n",
       "    <tr>\n",
       "      <th>14989</th>\n",
       "      <td>[@TicketNew]</td>\n",
       "    </tr>\n",
       "    <tr>\n",
       "      <th>14990</th>\n",
       "      <td>[@itsjustanx:]</td>\n",
       "    </tr>\n",
       "    <tr>\n",
       "      <th>14991</th>\n",
       "      <td>[@NikkieTutorials:]</td>\n",
       "    </tr>\n",
       "    <tr>\n",
       "      <th>14992</th>\n",
       "      <td>[@Marvel:]</td>\n",
       "    </tr>\n",
       "    <tr>\n",
       "      <th>14993</th>\n",
       "      <td>[@CobieSmulders:]</td>\n",
       "    </tr>\n",
       "    <tr>\n",
       "      <th>14994</th>\n",
       "      <td>[@Marvel_FFightUS:]</td>\n",
       "    </tr>\n",
       "    <tr>\n",
       "      <th>14995</th>\n",
       "      <td>[@natsdany:]</td>\n",
       "    </tr>\n",
       "    <tr>\n",
       "      <th>14996</th>\n",
       "      <td>[@MTVNEWS:, @Ave…]</td>\n",
       "    </tr>\n",
       "    <tr>\n",
       "      <th>14997</th>\n",
       "      <td>[@SPICinemas, @bookmyshow]</td>\n",
       "    </tr>\n",
       "    <tr>\n",
       "      <th>14998</th>\n",
       "      <td>[@Marvel:, @ChrisEvans!]</td>\n",
       "    </tr>\n",
       "    <tr>\n",
       "      <th>14999</th>\n",
       "      <td>[@Avengers:, @RobertDowneyJr!]</td>\n",
       "    </tr>\n",
       "  </tbody>\n",
       "</table>\n",
       "</div>"
      ],
      "text/plain": [
       "                            usernames\n",
       "14985                  [@MCU_Direct:]\n",
       "14986                      [@Marvel:]\n",
       "14987                   [@HelloBoon:]\n",
       "14988        [@Marvel:, @ChrisEvans!]\n",
       "14989                    [@TicketNew]\n",
       "14990                  [@itsjustanx:]\n",
       "14991             [@NikkieTutorials:]\n",
       "14992                      [@Marvel:]\n",
       "14993               [@CobieSmulders:]\n",
       "14994             [@Marvel_FFightUS:]\n",
       "14995                    [@natsdany:]\n",
       "14996              [@MTVNEWS:, @Ave…]\n",
       "14997      [@SPICinemas, @bookmyshow]\n",
       "14998        [@Marvel:, @ChrisEvans!]\n",
       "14999  [@Avengers:, @RobertDowneyJr!]"
      ]
     },
     "execution_count": 47,
     "metadata": {},
     "output_type": "execute_result"
    }
   ],
   "source": [
    "text[['usernames']].tail(15)"
   ]
  }
 ],
 "metadata": {
  "kernelspec": {
   "display_name": "Python 3",
   "language": "python",
   "name": "python3"
  },
  "language_info": {
   "codemirror_mode": {
    "name": "ipython",
    "version": 3
   },
   "file_extension": ".py",
   "mimetype": "text/x-python",
   "name": "python",
   "nbconvert_exporter": "python",
   "pygments_lexer": "ipython3",
   "version": "3.6.6"
  }
 },
 "nbformat": 4,
 "nbformat_minor": 2
}
