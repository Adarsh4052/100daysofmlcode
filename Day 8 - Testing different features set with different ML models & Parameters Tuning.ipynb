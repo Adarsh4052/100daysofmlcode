{
 "cells": [
  {
   "cell_type": "markdown",
   "metadata": {},
   "source": [
    "# About\n",
    "\n",
    "dataset : \n",
    "https://www.kaggle.com/anthonyc1/gathering-real-news-for-oct-dec-2016\n",
    "https://www.kaggle.com/mrisdal/fake-news\n",
    "\n",
    "After Day 6 and 7, testing extracted features and tuning parameters."
   ]
  },
  {
   "cell_type": "code",
   "execution_count": 82,
   "metadata": {},
   "outputs": [],
   "source": [
    "# In this project, we are going to classify the news into fake and real\n",
    "import pandas as pd\n",
    "import numpy as np\n",
    "import matplotlib.pyplot as plt\n",
    "\n",
    "# tfidf for feature extraction from text\n",
    "from sklearn.feature_extraction.text import TfidfVectorizer, CountVectorizer\n",
    "\n",
    "# import ML models \n",
    "from sklearn.linear_model import LogisticRegression\n",
    "from sklearn.ensemble import RandomForestClassifier\n",
    "from sklearn.naive_bayes import MultinomialNB\n",
    "from sklearn.svm import LinearSVC\n",
    "\n",
    "#  Metrices for model evalaution \n",
    "from sklearn import metrics\n",
    "from sklearn.metrics import classification_report , accuracy_score, confusion_matrix\n",
    "from sklearn.model_selection import train_test_split, cross_val_score\n",
    "\n",
    "# save model and intermedicate data\n",
    "from sklearn.externals import joblib"
   ]
  },
  {
   "cell_type": "code",
   "execution_count": 83,
   "metadata": {},
   "outputs": [],
   "source": [
    "df = pd.read_csv(r'dataset/news_dataset.csv')"
   ]
  },
  {
   "cell_type": "code",
   "execution_count": 84,
   "metadata": {
    "scrolled": true
   },
   "outputs": [
    {
     "name": "stdout",
     "output_type": "stream",
     "text": [
      "(28711, 5)\n",
      "\n",
      "\n",
      "\n",
      "Index(['Unnamed: 0', 'title', 'content', 'publication', 'label'], dtype='object')\n",
      "\n",
      "\n",
      "\n"
     ]
    },
    {
     "data": {
      "text/html": [
       "<div>\n",
       "<style scoped>\n",
       "    .dataframe tbody tr th:only-of-type {\n",
       "        vertical-align: middle;\n",
       "    }\n",
       "\n",
       "    .dataframe tbody tr th {\n",
       "        vertical-align: top;\n",
       "    }\n",
       "\n",
       "    .dataframe thead th {\n",
       "        text-align: right;\n",
       "    }\n",
       "</style>\n",
       "<table border=\"1\" class=\"dataframe\">\n",
       "  <thead>\n",
       "    <tr style=\"text-align: right;\">\n",
       "      <th></th>\n",
       "      <th>Unnamed: 0</th>\n",
       "      <th>title</th>\n",
       "      <th>content</th>\n",
       "      <th>publication</th>\n",
       "      <th>label</th>\n",
       "    </tr>\n",
       "  </thead>\n",
       "  <tbody>\n",
       "    <tr>\n",
       "      <th>0</th>\n",
       "      <td>0</td>\n",
       "      <td>Muslims BUSTED: They Stole Millions In Gov’t B...</td>\n",
       "      <td>Print They should pay all the back all the mon...</td>\n",
       "      <td>100percentfedup</td>\n",
       "      <td>fake</td>\n",
       "    </tr>\n",
       "    <tr>\n",
       "      <th>1</th>\n",
       "      <td>1</td>\n",
       "      <td>Re: Why Did Attorney General Loretta Lynch Ple...</td>\n",
       "      <td>Why Did Attorney General Loretta Lynch Plead T...</td>\n",
       "      <td>100percentfedup</td>\n",
       "      <td>fake</td>\n",
       "    </tr>\n",
       "    <tr>\n",
       "      <th>2</th>\n",
       "      <td>2</td>\n",
       "      <td>BREAKING: Weiner Cooperating With FBI On Hilla...</td>\n",
       "      <td>Red State : \\nFox News Sunday reported this mo...</td>\n",
       "      <td>100percentfedup</td>\n",
       "      <td>fake</td>\n",
       "    </tr>\n",
       "    <tr>\n",
       "      <th>3</th>\n",
       "      <td>3</td>\n",
       "      <td>PIN DROP SPEECH BY FATHER OF DAUGHTER Kidnappe...</td>\n",
       "      <td>Email Kayla Mueller was a prisoner and torture...</td>\n",
       "      <td>100percentfedup</td>\n",
       "      <td>fake</td>\n",
       "    </tr>\n",
       "    <tr>\n",
       "      <th>4</th>\n",
       "      <td>4</td>\n",
       "      <td>FANTASTIC! TRUMP'S 7 POINT PLAN To Reform Heal...</td>\n",
       "      <td>Email HEALTHCARE REFORM TO MAKE AMERICA GREAT ...</td>\n",
       "      <td>100percentfedup</td>\n",
       "      <td>fake</td>\n",
       "    </tr>\n",
       "  </tbody>\n",
       "</table>\n",
       "</div>"
      ],
      "text/plain": [
       "   Unnamed: 0                                              title  \\\n",
       "0           0  Muslims BUSTED: They Stole Millions In Gov’t B...   \n",
       "1           1  Re: Why Did Attorney General Loretta Lynch Ple...   \n",
       "2           2  BREAKING: Weiner Cooperating With FBI On Hilla...   \n",
       "3           3  PIN DROP SPEECH BY FATHER OF DAUGHTER Kidnappe...   \n",
       "4           4  FANTASTIC! TRUMP'S 7 POINT PLAN To Reform Heal...   \n",
       "\n",
       "                                             content      publication label  \n",
       "0  Print They should pay all the back all the mon...  100percentfedup  fake  \n",
       "1  Why Did Attorney General Loretta Lynch Plead T...  100percentfedup  fake  \n",
       "2  Red State : \\nFox News Sunday reported this mo...  100percentfedup  fake  \n",
       "3  Email Kayla Mueller was a prisoner and torture...  100percentfedup  fake  \n",
       "4  Email HEALTHCARE REFORM TO MAKE AMERICA GREAT ...  100percentfedup  fake  "
      ]
     },
     "execution_count": 84,
     "metadata": {},
     "output_type": "execute_result"
    }
   ],
   "source": [
    "print(df.shape)\n",
    "print(\"\\n\\n\")\n",
    "print(df.columns)\n",
    "print(\"\\n\\n\")\n",
    "df.head(5)"
   ]
  },
  {
   "cell_type": "code",
   "execution_count": 85,
   "metadata": {},
   "outputs": [],
   "source": [
    "df.drop(columns=\"Unnamed: 0\", axis=1, inplace=True)"
   ]
  },
  {
   "cell_type": "code",
   "execution_count": 86,
   "metadata": {},
   "outputs": [
    {
     "data": {
      "text/plain": [
       "Index(['title', 'content', 'publication', 'label'], dtype='object')"
      ]
     },
     "execution_count": 86,
     "metadata": {},
     "output_type": "execute_result"
    }
   ],
   "source": [
    "df.columns"
   ]
  },
  {
   "cell_type": "code",
   "execution_count": 87,
   "metadata": {},
   "outputs": [
    {
     "data": {
      "text/plain": [
       "[680, 46, 0, 0]"
      ]
     },
     "execution_count": 87,
     "metadata": {},
     "output_type": "execute_result"
    }
   ],
   "source": [
    "df.isnull().sum().tolist()"
   ]
  },
  {
   "cell_type": "code",
   "execution_count": 88,
   "metadata": {},
   "outputs": [],
   "source": [
    "df = df.dropna(how= \"any\")"
   ]
  },
  {
   "cell_type": "code",
   "execution_count": 89,
   "metadata": {},
   "outputs": [],
   "source": [
    "# merge title and content for further text preprocessing\n",
    "df.title = df.title.astype(str)\n",
    "df.content = df.content.astype(str)\n",
    "\n",
    "df['newstext'] = df[ ['title' , 'content'] ].apply( lambda t : ' '.join( t ) , axis = 1)"
   ]
  },
  {
   "cell_type": "code",
   "execution_count": 9,
   "metadata": {
    "scrolled": true
   },
   "outputs": [
    {
     "data": {
      "text/plain": [
       "0     Muslims BUSTED: They Stole Millions In Gov’t B...\n",
       "1     Re: Why Did Attorney General Loretta Lynch Ple...\n",
       "2     BREAKING: Weiner Cooperating With FBI On Hilla...\n",
       "3     PIN DROP SPEECH BY FATHER OF DAUGHTER Kidnappe...\n",
       "4     FANTASTIC! TRUMP'S 7 POINT PLAN To Reform Heal...\n",
       "5     Hillary Goes Absolutely Berserk On Protester A...\n",
       "6     BREAKING! NYPD Ready To Make Arrests In Weiner...\n",
       "7     WOW! WHISTLEBLOWER TELLS CHILLING STORY Of Mas...\n",
       "8     BREAKING: CLINTON CLEARED...Was This A Coordin...\n",
       "9     EVIL HILLARY SUPPORTERS Yell \"F*ck Trump\"…Burn...\n",
       "10    YIKES! HILLARY GOES OFF THE RAILS…Pulls A Howa...\n",
       "11    SAY GOODBYE! These 23 Hollywood Celebs Threate...\n",
       "12    NOT KIDDING: Colleges Give Students “Safe Spac...\n",
       "13    BOOM! MATH SHOWS Trump Would Have Beaten Obama...\n",
       "14    BOOM! This Is How President Reagan Handled Pro...\n",
       "Name: newstext, dtype: object"
      ]
     },
     "execution_count": 9,
     "metadata": {},
     "output_type": "execute_result"
    }
   ],
   "source": [
    "df.newstext.head(15)"
   ]
  },
  {
   "cell_type": "code",
   "execution_count": 90,
   "metadata": {},
   "outputs": [],
   "source": [
    "# drop content and title\n",
    "df.drop(columns= \"title\", axis=1, inplace=True)\n",
    "df.drop(columns=\"content\", axis=1, inplace=True)"
   ]
  },
  {
   "cell_type": "code",
   "execution_count": 91,
   "metadata": {
    "scrolled": true
   },
   "outputs": [
    {
     "data": {
      "text/html": [
       "<div>\n",
       "<style scoped>\n",
       "    .dataframe tbody tr th:only-of-type {\n",
       "        vertical-align: middle;\n",
       "    }\n",
       "\n",
       "    .dataframe tbody tr th {\n",
       "        vertical-align: top;\n",
       "    }\n",
       "\n",
       "    .dataframe thead th {\n",
       "        text-align: right;\n",
       "    }\n",
       "</style>\n",
       "<table border=\"1\" class=\"dataframe\">\n",
       "  <thead>\n",
       "    <tr style=\"text-align: right;\">\n",
       "      <th></th>\n",
       "      <th>publication</th>\n",
       "      <th>label</th>\n",
       "      <th>newstext</th>\n",
       "    </tr>\n",
       "  </thead>\n",
       "  <tbody>\n",
       "    <tr>\n",
       "      <th>0</th>\n",
       "      <td>100percentfedup</td>\n",
       "      <td>fake</td>\n",
       "      <td>Muslims BUSTED: They Stole Millions In Gov’t B...</td>\n",
       "    </tr>\n",
       "    <tr>\n",
       "      <th>1</th>\n",
       "      <td>100percentfedup</td>\n",
       "      <td>fake</td>\n",
       "      <td>Re: Why Did Attorney General Loretta Lynch Ple...</td>\n",
       "    </tr>\n",
       "    <tr>\n",
       "      <th>2</th>\n",
       "      <td>100percentfedup</td>\n",
       "      <td>fake</td>\n",
       "      <td>BREAKING: Weiner Cooperating With FBI On Hilla...</td>\n",
       "    </tr>\n",
       "    <tr>\n",
       "      <th>3</th>\n",
       "      <td>100percentfedup</td>\n",
       "      <td>fake</td>\n",
       "      <td>PIN DROP SPEECH BY FATHER OF DAUGHTER Kidnappe...</td>\n",
       "    </tr>\n",
       "    <tr>\n",
       "      <th>4</th>\n",
       "      <td>100percentfedup</td>\n",
       "      <td>fake</td>\n",
       "      <td>FANTASTIC! TRUMP'S 7 POINT PLAN To Reform Heal...</td>\n",
       "    </tr>\n",
       "    <tr>\n",
       "      <th>5</th>\n",
       "      <td>100percentfedup</td>\n",
       "      <td>fake</td>\n",
       "      <td>Hillary Goes Absolutely Berserk On Protester A...</td>\n",
       "    </tr>\n",
       "    <tr>\n",
       "      <th>6</th>\n",
       "      <td>100percentfedup</td>\n",
       "      <td>fake</td>\n",
       "      <td>BREAKING! NYPD Ready To Make Arrests In Weiner...</td>\n",
       "    </tr>\n",
       "    <tr>\n",
       "      <th>7</th>\n",
       "      <td>100percentfedup</td>\n",
       "      <td>fake</td>\n",
       "      <td>WOW! WHISTLEBLOWER TELLS CHILLING STORY Of Mas...</td>\n",
       "    </tr>\n",
       "    <tr>\n",
       "      <th>8</th>\n",
       "      <td>100percentfedup</td>\n",
       "      <td>fake</td>\n",
       "      <td>BREAKING: CLINTON CLEARED...Was This A Coordin...</td>\n",
       "    </tr>\n",
       "    <tr>\n",
       "      <th>9</th>\n",
       "      <td>100percentfedup</td>\n",
       "      <td>fake</td>\n",
       "      <td>EVIL HILLARY SUPPORTERS Yell \"F*ck Trump\"…Burn...</td>\n",
       "    </tr>\n",
       "    <tr>\n",
       "      <th>10</th>\n",
       "      <td>100percentfedup</td>\n",
       "      <td>fake</td>\n",
       "      <td>YIKES! HILLARY GOES OFF THE RAILS…Pulls A Howa...</td>\n",
       "    </tr>\n",
       "    <tr>\n",
       "      <th>11</th>\n",
       "      <td>100percentfedup</td>\n",
       "      <td>fake</td>\n",
       "      <td>SAY GOODBYE! These 23 Hollywood Celebs Threate...</td>\n",
       "    </tr>\n",
       "    <tr>\n",
       "      <th>12</th>\n",
       "      <td>100percentfedup</td>\n",
       "      <td>fake</td>\n",
       "      <td>NOT KIDDING: Colleges Give Students “Safe Spac...</td>\n",
       "    </tr>\n",
       "    <tr>\n",
       "      <th>13</th>\n",
       "      <td>100percentfedup</td>\n",
       "      <td>fake</td>\n",
       "      <td>BOOM! MATH SHOWS Trump Would Have Beaten Obama...</td>\n",
       "    </tr>\n",
       "    <tr>\n",
       "      <th>14</th>\n",
       "      <td>100percentfedup</td>\n",
       "      <td>fake</td>\n",
       "      <td>BOOM! This Is How President Reagan Handled Pro...</td>\n",
       "    </tr>\n",
       "  </tbody>\n",
       "</table>\n",
       "</div>"
      ],
      "text/plain": [
       "        publication label                                           newstext\n",
       "0   100percentfedup  fake  Muslims BUSTED: They Stole Millions In Gov’t B...\n",
       "1   100percentfedup  fake  Re: Why Did Attorney General Loretta Lynch Ple...\n",
       "2   100percentfedup  fake  BREAKING: Weiner Cooperating With FBI On Hilla...\n",
       "3   100percentfedup  fake  PIN DROP SPEECH BY FATHER OF DAUGHTER Kidnappe...\n",
       "4   100percentfedup  fake  FANTASTIC! TRUMP'S 7 POINT PLAN To Reform Heal...\n",
       "5   100percentfedup  fake  Hillary Goes Absolutely Berserk On Protester A...\n",
       "6   100percentfedup  fake  BREAKING! NYPD Ready To Make Arrests In Weiner...\n",
       "7   100percentfedup  fake  WOW! WHISTLEBLOWER TELLS CHILLING STORY Of Mas...\n",
       "8   100percentfedup  fake  BREAKING: CLINTON CLEARED...Was This A Coordin...\n",
       "9   100percentfedup  fake  EVIL HILLARY SUPPORTERS Yell \"F*ck Trump\"…Burn...\n",
       "10  100percentfedup  fake  YIKES! HILLARY GOES OFF THE RAILS…Pulls A Howa...\n",
       "11  100percentfedup  fake  SAY GOODBYE! These 23 Hollywood Celebs Threate...\n",
       "12  100percentfedup  fake  NOT KIDDING: Colleges Give Students “Safe Spac...\n",
       "13  100percentfedup  fake  BOOM! MATH SHOWS Trump Would Have Beaten Obama...\n",
       "14  100percentfedup  fake  BOOM! This Is How President Reagan Handled Pro..."
      ]
     },
     "execution_count": 91,
     "metadata": {},
     "output_type": "execute_result"
    }
   ],
   "source": [
    "df['newstext'] = df['newstext'].apply( lambda t : \" \".join( t.split() ) )\n",
    "df.head(15)"
   ]
  },
  {
   "cell_type": "code",
   "execution_count": 92,
   "metadata": {},
   "outputs": [
    {
     "data": {
      "text/html": [
       "<div>\n",
       "<style scoped>\n",
       "    .dataframe tbody tr th:only-of-type {\n",
       "        vertical-align: middle;\n",
       "    }\n",
       "\n",
       "    .dataframe tbody tr th {\n",
       "        vertical-align: top;\n",
       "    }\n",
       "\n",
       "    .dataframe thead th {\n",
       "        text-align: right;\n",
       "    }\n",
       "</style>\n",
       "<table border=\"1\" class=\"dataframe\">\n",
       "  <thead>\n",
       "    <tr style=\"text-align: right;\">\n",
       "      <th></th>\n",
       "      <th>publication</th>\n",
       "      <th>label</th>\n",
       "      <th>newstext</th>\n",
       "      <th>uppercase_count</th>\n",
       "    </tr>\n",
       "  </thead>\n",
       "  <tbody>\n",
       "    <tr>\n",
       "      <th>0</th>\n",
       "      <td>100percentfedup</td>\n",
       "      <td>fake</td>\n",
       "      <td>Muslims BUSTED: They Stole Millions In Gov’t B...</td>\n",
       "      <td>2</td>\n",
       "    </tr>\n",
       "    <tr>\n",
       "      <th>1</th>\n",
       "      <td>100percentfedup</td>\n",
       "      <td>fake</td>\n",
       "      <td>Re: Why Did Attorney General Loretta Lynch Ple...</td>\n",
       "      <td>2</td>\n",
       "    </tr>\n",
       "    <tr>\n",
       "      <th>2</th>\n",
       "      <td>100percentfedup</td>\n",
       "      <td>fake</td>\n",
       "      <td>BREAKING: Weiner Cooperating With FBI On Hilla...</td>\n",
       "      <td>4</td>\n",
       "    </tr>\n",
       "    <tr>\n",
       "      <th>3</th>\n",
       "      <td>100percentfedup</td>\n",
       "      <td>fake</td>\n",
       "      <td>PIN DROP SPEECH BY FATHER OF DAUGHTER Kidnappe...</td>\n",
       "      <td>12</td>\n",
       "    </tr>\n",
       "    <tr>\n",
       "      <th>4</th>\n",
       "      <td>100percentfedup</td>\n",
       "      <td>fake</td>\n",
       "      <td>FANTASTIC! TRUMP'S 7 POINT PLAN To Reform Heal...</td>\n",
       "      <td>14</td>\n",
       "    </tr>\n",
       "    <tr>\n",
       "      <th>5</th>\n",
       "      <td>100percentfedup</td>\n",
       "      <td>fake</td>\n",
       "      <td>Hillary Goes Absolutely Berserk On Protester A...</td>\n",
       "      <td>3</td>\n",
       "    </tr>\n",
       "    <tr>\n",
       "      <th>6</th>\n",
       "      <td>100percentfedup</td>\n",
       "      <td>fake</td>\n",
       "      <td>BREAKING! NYPD Ready To Make Arrests In Weiner...</td>\n",
       "      <td>32</td>\n",
       "    </tr>\n",
       "    <tr>\n",
       "      <th>7</th>\n",
       "      <td>100percentfedup</td>\n",
       "      <td>fake</td>\n",
       "      <td>WOW! WHISTLEBLOWER TELLS CHILLING STORY Of Mas...</td>\n",
       "      <td>14</td>\n",
       "    </tr>\n",
       "    <tr>\n",
       "      <th>8</th>\n",
       "      <td>100percentfedup</td>\n",
       "      <td>fake</td>\n",
       "      <td>BREAKING: CLINTON CLEARED...Was This A Coordin...</td>\n",
       "      <td>12</td>\n",
       "    </tr>\n",
       "    <tr>\n",
       "      <th>9</th>\n",
       "      <td>100percentfedup</td>\n",
       "      <td>fake</td>\n",
       "      <td>EVIL HILLARY SUPPORTERS Yell \"F*ck Trump\"…Burn...</td>\n",
       "      <td>11</td>\n",
       "    </tr>\n",
       "    <tr>\n",
       "      <th>10</th>\n",
       "      <td>100percentfedup</td>\n",
       "      <td>fake</td>\n",
       "      <td>YIKES! HILLARY GOES OFF THE RAILS…Pulls A Howa...</td>\n",
       "      <td>6</td>\n",
       "    </tr>\n",
       "    <tr>\n",
       "      <th>11</th>\n",
       "      <td>100percentfedup</td>\n",
       "      <td>fake</td>\n",
       "      <td>SAY GOODBYE! These 23 Hollywood Celebs Threate...</td>\n",
       "      <td>38</td>\n",
       "    </tr>\n",
       "    <tr>\n",
       "      <th>12</th>\n",
       "      <td>100percentfedup</td>\n",
       "      <td>fake</td>\n",
       "      <td>NOT KIDDING: Colleges Give Students “Safe Spac...</td>\n",
       "      <td>12</td>\n",
       "    </tr>\n",
       "    <tr>\n",
       "      <th>13</th>\n",
       "      <td>100percentfedup</td>\n",
       "      <td>fake</td>\n",
       "      <td>BOOM! MATH SHOWS Trump Would Have Beaten Obama...</td>\n",
       "      <td>9</td>\n",
       "    </tr>\n",
       "    <tr>\n",
       "      <th>14</th>\n",
       "      <td>100percentfedup</td>\n",
       "      <td>fake</td>\n",
       "      <td>BOOM! This Is How President Reagan Handled Pro...</td>\n",
       "      <td>5</td>\n",
       "    </tr>\n",
       "  </tbody>\n",
       "</table>\n",
       "</div>"
      ],
      "text/plain": [
       "        publication label                                           newstext  \\\n",
       "0   100percentfedup  fake  Muslims BUSTED: They Stole Millions In Gov’t B...   \n",
       "1   100percentfedup  fake  Re: Why Did Attorney General Loretta Lynch Ple...   \n",
       "2   100percentfedup  fake  BREAKING: Weiner Cooperating With FBI On Hilla...   \n",
       "3   100percentfedup  fake  PIN DROP SPEECH BY FATHER OF DAUGHTER Kidnappe...   \n",
       "4   100percentfedup  fake  FANTASTIC! TRUMP'S 7 POINT PLAN To Reform Heal...   \n",
       "5   100percentfedup  fake  Hillary Goes Absolutely Berserk On Protester A...   \n",
       "6   100percentfedup  fake  BREAKING! NYPD Ready To Make Arrests In Weiner...   \n",
       "7   100percentfedup  fake  WOW! WHISTLEBLOWER TELLS CHILLING STORY Of Mas...   \n",
       "8   100percentfedup  fake  BREAKING: CLINTON CLEARED...Was This A Coordin...   \n",
       "9   100percentfedup  fake  EVIL HILLARY SUPPORTERS Yell \"F*ck Trump\"…Burn...   \n",
       "10  100percentfedup  fake  YIKES! HILLARY GOES OFF THE RAILS…Pulls A Howa...   \n",
       "11  100percentfedup  fake  SAY GOODBYE! These 23 Hollywood Celebs Threate...   \n",
       "12  100percentfedup  fake  NOT KIDDING: Colleges Give Students “Safe Spac...   \n",
       "13  100percentfedup  fake  BOOM! MATH SHOWS Trump Would Have Beaten Obama...   \n",
       "14  100percentfedup  fake  BOOM! This Is How President Reagan Handled Pro...   \n",
       "\n",
       "    uppercase_count  \n",
       "0                 2  \n",
       "1                 2  \n",
       "2                 4  \n",
       "3                12  \n",
       "4                14  \n",
       "5                 3  \n",
       "6                32  \n",
       "7                14  \n",
       "8                12  \n",
       "9                11  \n",
       "10                6  \n",
       "11               38  \n",
       "12               12  \n",
       "13                9  \n",
       "14                5  "
      ]
     },
     "execution_count": 92,
     "metadata": {},
     "output_type": "execute_result"
    }
   ],
   "source": [
    "# feature extraction: number of UPPERCASE Letters\n",
    "def uppercase_count(t):\n",
    "    upper_list = []\n",
    "    for word in t.split():\n",
    "        if word.isupper():\n",
    "            upper_list.append(word)\n",
    "    return len(upper_list)\n",
    "\n",
    "df['uppercase_count'] = df.newstext.apply(lambda t : uppercase_count(t) )\n",
    "df.head(15)"
   ]
  },
  {
   "cell_type": "code",
   "execution_count": 93,
   "metadata": {},
   "outputs": [
    {
     "data": {
      "text/html": [
       "<div>\n",
       "<style scoped>\n",
       "    .dataframe tbody tr th:only-of-type {\n",
       "        vertical-align: middle;\n",
       "    }\n",
       "\n",
       "    .dataframe tbody tr th {\n",
       "        vertical-align: top;\n",
       "    }\n",
       "\n",
       "    .dataframe thead th {\n",
       "        text-align: right;\n",
       "    }\n",
       "</style>\n",
       "<table border=\"1\" class=\"dataframe\">\n",
       "  <thead>\n",
       "    <tr style=\"text-align: right;\">\n",
       "      <th></th>\n",
       "      <th>publication</th>\n",
       "      <th>label</th>\n",
       "      <th>newstext</th>\n",
       "      <th>uppercase_count</th>\n",
       "      <th>word_count</th>\n",
       "    </tr>\n",
       "  </thead>\n",
       "  <tbody>\n",
       "    <tr>\n",
       "      <th>0</th>\n",
       "      <td>100percentfedup</td>\n",
       "      <td>fake</td>\n",
       "      <td>Muslims BUSTED: They Stole Millions In Gov’t B...</td>\n",
       "      <td>2</td>\n",
       "      <td>95</td>\n",
       "    </tr>\n",
       "    <tr>\n",
       "      <th>1</th>\n",
       "      <td>100percentfedup</td>\n",
       "      <td>fake</td>\n",
       "      <td>Re: Why Did Attorney General Loretta Lynch Ple...</td>\n",
       "      <td>2</td>\n",
       "      <td>287</td>\n",
       "    </tr>\n",
       "    <tr>\n",
       "      <th>2</th>\n",
       "      <td>100percentfedup</td>\n",
       "      <td>fake</td>\n",
       "      <td>BREAKING: Weiner Cooperating With FBI On Hilla...</td>\n",
       "      <td>4</td>\n",
       "      <td>233</td>\n",
       "    </tr>\n",
       "    <tr>\n",
       "      <th>3</th>\n",
       "      <td>100percentfedup</td>\n",
       "      <td>fake</td>\n",
       "      <td>PIN DROP SPEECH BY FATHER OF DAUGHTER Kidnappe...</td>\n",
       "      <td>12</td>\n",
       "      <td>69</td>\n",
       "    </tr>\n",
       "    <tr>\n",
       "      <th>4</th>\n",
       "      <td>100percentfedup</td>\n",
       "      <td>fake</td>\n",
       "      <td>FANTASTIC! TRUMP'S 7 POINT PLAN To Reform Heal...</td>\n",
       "      <td>14</td>\n",
       "      <td>346</td>\n",
       "    </tr>\n",
       "    <tr>\n",
       "      <th>5</th>\n",
       "      <td>100percentfedup</td>\n",
       "      <td>fake</td>\n",
       "      <td>Hillary Goes Absolutely Berserk On Protester A...</td>\n",
       "      <td>3</td>\n",
       "      <td>192</td>\n",
       "    </tr>\n",
       "    <tr>\n",
       "      <th>6</th>\n",
       "      <td>100percentfedup</td>\n",
       "      <td>fake</td>\n",
       "      <td>BREAKING! NYPD Ready To Make Arrests In Weiner...</td>\n",
       "      <td>32</td>\n",
       "      <td>989</td>\n",
       "    </tr>\n",
       "    <tr>\n",
       "      <th>7</th>\n",
       "      <td>100percentfedup</td>\n",
       "      <td>fake</td>\n",
       "      <td>WOW! WHISTLEBLOWER TELLS CHILLING STORY Of Mas...</td>\n",
       "      <td>14</td>\n",
       "      <td>400</td>\n",
       "    </tr>\n",
       "    <tr>\n",
       "      <th>8</th>\n",
       "      <td>100percentfedup</td>\n",
       "      <td>fake</td>\n",
       "      <td>BREAKING: CLINTON CLEARED...Was This A Coordin...</td>\n",
       "      <td>12</td>\n",
       "      <td>228</td>\n",
       "    </tr>\n",
       "    <tr>\n",
       "      <th>9</th>\n",
       "      <td>100percentfedup</td>\n",
       "      <td>fake</td>\n",
       "      <td>EVIL HILLARY SUPPORTERS Yell \"F*ck Trump\"…Burn...</td>\n",
       "      <td>11</td>\n",
       "      <td>152</td>\n",
       "    </tr>\n",
       "    <tr>\n",
       "      <th>10</th>\n",
       "      <td>100percentfedup</td>\n",
       "      <td>fake</td>\n",
       "      <td>YIKES! HILLARY GOES OFF THE RAILS…Pulls A Howa...</td>\n",
       "      <td>6</td>\n",
       "      <td>10</td>\n",
       "    </tr>\n",
       "    <tr>\n",
       "      <th>11</th>\n",
       "      <td>100percentfedup</td>\n",
       "      <td>fake</td>\n",
       "      <td>SAY GOODBYE! These 23 Hollywood Celebs Threate...</td>\n",
       "      <td>38</td>\n",
       "      <td>765</td>\n",
       "    </tr>\n",
       "    <tr>\n",
       "      <th>12</th>\n",
       "      <td>100percentfedup</td>\n",
       "      <td>fake</td>\n",
       "      <td>NOT KIDDING: Colleges Give Students “Safe Spac...</td>\n",
       "      <td>12</td>\n",
       "      <td>747</td>\n",
       "    </tr>\n",
       "    <tr>\n",
       "      <th>13</th>\n",
       "      <td>100percentfedup</td>\n",
       "      <td>fake</td>\n",
       "      <td>BOOM! MATH SHOWS Trump Would Have Beaten Obama...</td>\n",
       "      <td>9</td>\n",
       "      <td>445</td>\n",
       "    </tr>\n",
       "    <tr>\n",
       "      <th>14</th>\n",
       "      <td>100percentfedup</td>\n",
       "      <td>fake</td>\n",
       "      <td>BOOM! This Is How President Reagan Handled Pro...</td>\n",
       "      <td>5</td>\n",
       "      <td>53</td>\n",
       "    </tr>\n",
       "  </tbody>\n",
       "</table>\n",
       "</div>"
      ],
      "text/plain": [
       "        publication label                                           newstext  \\\n",
       "0   100percentfedup  fake  Muslims BUSTED: They Stole Millions In Gov’t B...   \n",
       "1   100percentfedup  fake  Re: Why Did Attorney General Loretta Lynch Ple...   \n",
       "2   100percentfedup  fake  BREAKING: Weiner Cooperating With FBI On Hilla...   \n",
       "3   100percentfedup  fake  PIN DROP SPEECH BY FATHER OF DAUGHTER Kidnappe...   \n",
       "4   100percentfedup  fake  FANTASTIC! TRUMP'S 7 POINT PLAN To Reform Heal...   \n",
       "5   100percentfedup  fake  Hillary Goes Absolutely Berserk On Protester A...   \n",
       "6   100percentfedup  fake  BREAKING! NYPD Ready To Make Arrests In Weiner...   \n",
       "7   100percentfedup  fake  WOW! WHISTLEBLOWER TELLS CHILLING STORY Of Mas...   \n",
       "8   100percentfedup  fake  BREAKING: CLINTON CLEARED...Was This A Coordin...   \n",
       "9   100percentfedup  fake  EVIL HILLARY SUPPORTERS Yell \"F*ck Trump\"…Burn...   \n",
       "10  100percentfedup  fake  YIKES! HILLARY GOES OFF THE RAILS…Pulls A Howa...   \n",
       "11  100percentfedup  fake  SAY GOODBYE! These 23 Hollywood Celebs Threate...   \n",
       "12  100percentfedup  fake  NOT KIDDING: Colleges Give Students “Safe Spac...   \n",
       "13  100percentfedup  fake  BOOM! MATH SHOWS Trump Would Have Beaten Obama...   \n",
       "14  100percentfedup  fake  BOOM! This Is How President Reagan Handled Pro...   \n",
       "\n",
       "    uppercase_count  word_count  \n",
       "0                 2          95  \n",
       "1                 2         287  \n",
       "2                 4         233  \n",
       "3                12          69  \n",
       "4                14         346  \n",
       "5                 3         192  \n",
       "6                32         989  \n",
       "7                14         400  \n",
       "8                12         228  \n",
       "9                11         152  \n",
       "10                6          10  \n",
       "11               38         765  \n",
       "12               12         747  \n",
       "13                9         445  \n",
       "14                5          53  "
      ]
     },
     "execution_count": 93,
     "metadata": {},
     "output_type": "execute_result"
    }
   ],
   "source": [
    "# Feature extraction : number of words from\n",
    "df['word_count'] = df.newstext.apply( lambda t : len(str(t).split(\" \") ) )\n",
    "df.head(15)"
   ]
  },
  {
   "cell_type": "code",
   "execution_count": 94,
   "metadata": {
    "scrolled": true
   },
   "outputs": [
    {
     "data": {
      "text/html": [
       "<div>\n",
       "<style scoped>\n",
       "    .dataframe tbody tr th:only-of-type {\n",
       "        vertical-align: middle;\n",
       "    }\n",
       "\n",
       "    .dataframe tbody tr th {\n",
       "        vertical-align: top;\n",
       "    }\n",
       "\n",
       "    .dataframe thead th {\n",
       "        text-align: right;\n",
       "    }\n",
       "</style>\n",
       "<table border=\"1\" class=\"dataframe\">\n",
       "  <thead>\n",
       "    <tr style=\"text-align: right;\">\n",
       "      <th></th>\n",
       "      <th>publication</th>\n",
       "      <th>label</th>\n",
       "      <th>newstext</th>\n",
       "      <th>uppercase_count</th>\n",
       "      <th>word_count</th>\n",
       "      <th>avg_word_len</th>\n",
       "    </tr>\n",
       "  </thead>\n",
       "  <tbody>\n",
       "    <tr>\n",
       "      <th>0</th>\n",
       "      <td>100percentfedup</td>\n",
       "      <td>fake</td>\n",
       "      <td>Muslims BUSTED: They Stole Millions In Gov’t B...</td>\n",
       "      <td>2</td>\n",
       "      <td>95</td>\n",
       "      <td>4.873684</td>\n",
       "    </tr>\n",
       "    <tr>\n",
       "      <th>1</th>\n",
       "      <td>100percentfedup</td>\n",
       "      <td>fake</td>\n",
       "      <td>Re: Why Did Attorney General Loretta Lynch Ple...</td>\n",
       "      <td>2</td>\n",
       "      <td>287</td>\n",
       "      <td>5.432056</td>\n",
       "    </tr>\n",
       "    <tr>\n",
       "      <th>2</th>\n",
       "      <td>100percentfedup</td>\n",
       "      <td>fake</td>\n",
       "      <td>BREAKING: Weiner Cooperating With FBI On Hilla...</td>\n",
       "      <td>4</td>\n",
       "      <td>233</td>\n",
       "      <td>5.128755</td>\n",
       "    </tr>\n",
       "    <tr>\n",
       "      <th>3</th>\n",
       "      <td>100percentfedup</td>\n",
       "      <td>fake</td>\n",
       "      <td>PIN DROP SPEECH BY FATHER OF DAUGHTER Kidnappe...</td>\n",
       "      <td>12</td>\n",
       "      <td>69</td>\n",
       "      <td>4.753623</td>\n",
       "    </tr>\n",
       "    <tr>\n",
       "      <th>4</th>\n",
       "      <td>100percentfedup</td>\n",
       "      <td>fake</td>\n",
       "      <td>FANTASTIC! TRUMP'S 7 POINT PLAN To Reform Heal...</td>\n",
       "      <td>14</td>\n",
       "      <td>346</td>\n",
       "      <td>5.329480</td>\n",
       "    </tr>\n",
       "    <tr>\n",
       "      <th>5</th>\n",
       "      <td>100percentfedup</td>\n",
       "      <td>fake</td>\n",
       "      <td>Hillary Goes Absolutely Berserk On Protester A...</td>\n",
       "      <td>3</td>\n",
       "      <td>192</td>\n",
       "      <td>5.843750</td>\n",
       "    </tr>\n",
       "    <tr>\n",
       "      <th>6</th>\n",
       "      <td>100percentfedup</td>\n",
       "      <td>fake</td>\n",
       "      <td>BREAKING! NYPD Ready To Make Arrests In Weiner...</td>\n",
       "      <td>32</td>\n",
       "      <td>989</td>\n",
       "      <td>5.140546</td>\n",
       "    </tr>\n",
       "    <tr>\n",
       "      <th>7</th>\n",
       "      <td>100percentfedup</td>\n",
       "      <td>fake</td>\n",
       "      <td>WOW! WHISTLEBLOWER TELLS CHILLING STORY Of Mas...</td>\n",
       "      <td>14</td>\n",
       "      <td>400</td>\n",
       "      <td>5.705000</td>\n",
       "    </tr>\n",
       "    <tr>\n",
       "      <th>8</th>\n",
       "      <td>100percentfedup</td>\n",
       "      <td>fake</td>\n",
       "      <td>BREAKING: CLINTON CLEARED...Was This A Coordin...</td>\n",
       "      <td>12</td>\n",
       "      <td>228</td>\n",
       "      <td>5.162281</td>\n",
       "    </tr>\n",
       "    <tr>\n",
       "      <th>9</th>\n",
       "      <td>100percentfedup</td>\n",
       "      <td>fake</td>\n",
       "      <td>EVIL HILLARY SUPPORTERS Yell \"F*ck Trump\"…Burn...</td>\n",
       "      <td>11</td>\n",
       "      <td>152</td>\n",
       "      <td>4.697368</td>\n",
       "    </tr>\n",
       "    <tr>\n",
       "      <th>10</th>\n",
       "      <td>100percentfedup</td>\n",
       "      <td>fake</td>\n",
       "      <td>YIKES! HILLARY GOES OFF THE RAILS…Pulls A Howa...</td>\n",
       "      <td>6</td>\n",
       "      <td>10</td>\n",
       "      <td>5.200000</td>\n",
       "    </tr>\n",
       "    <tr>\n",
       "      <th>11</th>\n",
       "      <td>100percentfedup</td>\n",
       "      <td>fake</td>\n",
       "      <td>SAY GOODBYE! These 23 Hollywood Celebs Threate...</td>\n",
       "      <td>38</td>\n",
       "      <td>765</td>\n",
       "      <td>4.603922</td>\n",
       "    </tr>\n",
       "    <tr>\n",
       "      <th>12</th>\n",
       "      <td>100percentfedup</td>\n",
       "      <td>fake</td>\n",
       "      <td>NOT KIDDING: Colleges Give Students “Safe Spac...</td>\n",
       "      <td>12</td>\n",
       "      <td>747</td>\n",
       "      <td>5.253012</td>\n",
       "    </tr>\n",
       "    <tr>\n",
       "      <th>13</th>\n",
       "      <td>100percentfedup</td>\n",
       "      <td>fake</td>\n",
       "      <td>BOOM! MATH SHOWS Trump Would Have Beaten Obama...</td>\n",
       "      <td>9</td>\n",
       "      <td>445</td>\n",
       "      <td>5.173034</td>\n",
       "    </tr>\n",
       "    <tr>\n",
       "      <th>14</th>\n",
       "      <td>100percentfedup</td>\n",
       "      <td>fake</td>\n",
       "      <td>BOOM! This Is How President Reagan Handled Pro...</td>\n",
       "      <td>5</td>\n",
       "      <td>53</td>\n",
       "      <td>5.584906</td>\n",
       "    </tr>\n",
       "  </tbody>\n",
       "</table>\n",
       "</div>"
      ],
      "text/plain": [
       "        publication label                                           newstext  \\\n",
       "0   100percentfedup  fake  Muslims BUSTED: They Stole Millions In Gov’t B...   \n",
       "1   100percentfedup  fake  Re: Why Did Attorney General Loretta Lynch Ple...   \n",
       "2   100percentfedup  fake  BREAKING: Weiner Cooperating With FBI On Hilla...   \n",
       "3   100percentfedup  fake  PIN DROP SPEECH BY FATHER OF DAUGHTER Kidnappe...   \n",
       "4   100percentfedup  fake  FANTASTIC! TRUMP'S 7 POINT PLAN To Reform Heal...   \n",
       "5   100percentfedup  fake  Hillary Goes Absolutely Berserk On Protester A...   \n",
       "6   100percentfedup  fake  BREAKING! NYPD Ready To Make Arrests In Weiner...   \n",
       "7   100percentfedup  fake  WOW! WHISTLEBLOWER TELLS CHILLING STORY Of Mas...   \n",
       "8   100percentfedup  fake  BREAKING: CLINTON CLEARED...Was This A Coordin...   \n",
       "9   100percentfedup  fake  EVIL HILLARY SUPPORTERS Yell \"F*ck Trump\"…Burn...   \n",
       "10  100percentfedup  fake  YIKES! HILLARY GOES OFF THE RAILS…Pulls A Howa...   \n",
       "11  100percentfedup  fake  SAY GOODBYE! These 23 Hollywood Celebs Threate...   \n",
       "12  100percentfedup  fake  NOT KIDDING: Colleges Give Students “Safe Spac...   \n",
       "13  100percentfedup  fake  BOOM! MATH SHOWS Trump Would Have Beaten Obama...   \n",
       "14  100percentfedup  fake  BOOM! This Is How President Reagan Handled Pro...   \n",
       "\n",
       "    uppercase_count  word_count  avg_word_len  \n",
       "0                 2          95      4.873684  \n",
       "1                 2         287      5.432056  \n",
       "2                 4         233      5.128755  \n",
       "3                12          69      4.753623  \n",
       "4                14         346      5.329480  \n",
       "5                 3         192      5.843750  \n",
       "6                32         989      5.140546  \n",
       "7                14         400      5.705000  \n",
       "8                12         228      5.162281  \n",
       "9                11         152      4.697368  \n",
       "10                6          10      5.200000  \n",
       "11               38         765      4.603922  \n",
       "12               12         747      5.253012  \n",
       "13                9         445      5.173034  \n",
       "14                5          53      5.584906  "
      ]
     },
     "execution_count": 94,
     "metadata": {},
     "output_type": "execute_result"
    }
   ],
   "source": [
    "#  Feature : Average word length for content\n",
    "def avg_word_length(t):\n",
    "    words = t.split()\n",
    "    return ( sum( len(word) for word in words ) / len(words))\n",
    "\n",
    "df['avg_word_len'] = df.newstext.apply( lambda t : avg_word_length(t) )\n",
    "df.head(15)"
   ]
  },
  {
   "cell_type": "code",
   "execution_count": 95,
   "metadata": {},
   "outputs": [
    {
     "data": {
      "text/plain": [
       "0    muslims busted: they stole millions in gov’t b...\n",
       "1    re: why did attorney general loretta lynch ple...\n",
       "2    breaking: weiner cooperating with fbi on hilla...\n",
       "3    pin drop speech by father of daughter kidnappe...\n",
       "4    fantastic! trump's 7 point plan to reform heal...\n",
       "Name: newstext, dtype: object"
      ]
     },
     "execution_count": 95,
     "metadata": {},
     "output_type": "execute_result"
    }
   ],
   "source": [
    "# text preprocessing : Lowercasing\n",
    "df.newstext = df.newstext.apply( lambda t : ' '.join( word.lower() for word in t.split() ) )\n",
    "df.newstext.head(5)"
   ]
  },
  {
   "cell_type": "code",
   "execution_count": 96,
   "metadata": {},
   "outputs": [
    {
     "data": {
      "text/plain": [
       "0    muslims busted they stole millions in govt ben...\n",
       "1    re why did attorney general loretta lynch plea...\n",
       "2    breaking weiner cooperating with fbi on hillar...\n",
       "3    pin drop speech by father of daughter kidnappe...\n",
       "4    fantastic trumps 7 point plan to reform health...\n",
       "Name: newstext, dtype: object"
      ]
     },
     "execution_count": 96,
     "metadata": {},
     "output_type": "execute_result"
    }
   ],
   "source": [
    "# text preprocessing : punctuation removal\n",
    "# keep only words and spaces\n",
    "df.newstext = df.newstext.str.replace( \"[^\\w\\s]\" , \"\" )\n",
    "df.newstext.head(5)"
   ]
  },
  {
   "cell_type": "code",
   "execution_count": 97,
   "metadata": {},
   "outputs": [
    {
     "data": {
      "text/plain": [
       "0    muslims busted stole millions govt benefits pr...\n",
       "1    attorney general loretta lynch plead fifth att...\n",
       "2    breaking weiner cooperating fbi hillary email ...\n",
       "3    pin drop speech father daughter kidnapped kill...\n",
       "4    fantastic trumps 7 point plan reform healthcar...\n",
       "Name: newstext, dtype: object"
      ]
     },
     "execution_count": 97,
     "metadata": {},
     "output_type": "execute_result"
    }
   ],
   "source": [
    "# Remove stop words\n",
    "# fetch stop words from NLTK corpus\n",
    "from nltk.corpus import stopwords\n",
    "stop = stopwords.words('english')\n",
    "\n",
    "df.newstext = df.newstext.apply( lambda t: \" \".join( word for word in t.split() if word not in stop ) )\n",
    "df.newstext.head(5)"
   ]
  },
  {
   "cell_type": "code",
   "execution_count": 98,
   "metadata": {},
   "outputs": [],
   "source": [
    "# Remove frequent words\n",
    "all_words = ' '.join(df.newstext ).split()\n",
    "\n",
    "# let's keep the threshold of 20 K which almost equal to number of data instances in the dataset\n",
    "freq_words = pd.Series(all_words).value_counts()[:30]"
   ]
  },
  {
   "cell_type": "code",
   "execution_count": 99,
   "metadata": {},
   "outputs": [
    {
     "data": {
      "text/plain": [
       "said          92872\n",
       "trump         88244\n",
       "one           57036\n",
       "would         57035\n",
       "people        55999\n",
       "new           44186\n",
       "us            42986\n",
       "clinton       42412\n",
       "like          39191\n",
       "also          37771\n",
       "could         32478\n",
       "time          32317\n",
       "president     30375\n",
       "even          29477\n",
       "many          28690\n",
       "years         28603\n",
       "state         28529\n",
       "election      28262\n",
       "first         26434\n",
       "two           24654\n",
       "states        24639\n",
       "hillary       23358\n",
       "government    22313\n",
       "world         22256\n",
       "campaign      22087\n",
       "get           21994\n",
       "trumps        21089\n",
       "way           20879\n",
       "donald        20810\n",
       "last          20518\n",
       "dtype: int64"
      ]
     },
     "execution_count": 99,
     "metadata": {},
     "output_type": "execute_result"
    }
   ],
   "source": [
    "freq_words"
   ]
  },
  {
   "cell_type": "code",
   "execution_count": 100,
   "metadata": {},
   "outputs": [
    {
     "data": {
      "text/plain": [
       "0    muslims busted stole millions govt benefits pr...\n",
       "1    attorney general loretta lynch plead fifth att...\n",
       "2    breaking weiner cooperating fbi email investig...\n",
       "3    pin drop speech father daughter kidnapped kill...\n",
       "4    fantastic 7 point plan reform healthcare begin...\n",
       "Name: newstext, dtype: object"
      ]
     },
     "execution_count": 100,
     "metadata": {},
     "output_type": "execute_result"
    }
   ],
   "source": [
    "# remove freq_words\n",
    "df.newstext = df.newstext.apply( lambda t: \" \".join( word for word in t.split() if word not in freq_words)) \n",
    "df.newstext.head(5)"
   ]
  },
  {
   "cell_type": "code",
   "execution_count": 101,
   "metadata": {},
   "outputs": [
    {
     "data": {
      "text/plain": [
       "<bound method Series.sort_values of rhino                   61\n",
       "libyas                  61\n",
       "sweater                 61\n",
       "hotter                  61\n",
       "erect                   61\n",
       "fashioned               61\n",
       "retaking                61\n",
       "admirers                61\n",
       "roaring                 61\n",
       "workplaces              61\n",
       "nauru                   61\n",
       "lends                   61\n",
       "vigilantes              61\n",
       "charade                 61\n",
       "prism                   61\n",
       "tan                     61\n",
       "memorably               61\n",
       "jabin                   61\n",
       "launchers               61\n",
       "devaluation             61\n",
       "232                     61\n",
       "unrelenting             61\n",
       "semblance               61\n",
       "bikes                   61\n",
       "coronation              61\n",
       "albright                61\n",
       "fluent                  61\n",
       "unknowns                61\n",
       "elevating               61\n",
       "dicaprio                61\n",
       "                        ..\n",
       "17524                    1\n",
       "skepsis                  1\n",
       "effia                    1\n",
       "witted                   1\n",
       "abscessed                1\n",
       "microtones               1\n",
       "недопуске                1\n",
       "dentifrice               1\n",
       "секретнейшие             1\n",
       "تظن                      1\n",
       "sugeridos                1\n",
       "jawdroppingly            1\n",
       "juridiquement            1\n",
       "1416                     1\n",
       "encara                   1\n",
       "governmentworshiping     1\n",
       "clássico                 1\n",
       "lebenslügen              1\n",
       "juiceman                 1\n",
       "захватчиков              1\n",
       "sebts                    1\n",
       "суверенитету             1\n",
       "djuan                    1\n",
       "banishes                 1\n",
       "путешествие              1\n",
       "доследственную           1\n",
       "goooo                    1\n",
       "شهرا                     1\n",
       "aussagekräftig           1\n",
       "healthmedical            1\n",
       "Length: 230000, dtype: int64>"
      ]
     },
     "execution_count": 101,
     "metadata": {},
     "output_type": "execute_result"
    }
   ],
   "source": [
    "# remove rare words\n",
    "all_words = \" \".join( df.newstext ).split()\n",
    "rare_words = pd.Series( all_words ).value_counts()[ -230000 : ]\n",
    "rare_words.sort_values"
   ]
  },
  {
   "cell_type": "code",
   "execution_count": 102,
   "metadata": {
    "scrolled": true
   },
   "outputs": [
    {
     "data": {
      "text/plain": [
       "0    muslims busted stole millions govt benefits pr...\n",
       "1    attorney general loretta lynch plead fifth att...\n",
       "2    breaking weiner cooperating fbi email investig...\n",
       "3    pin drop speech father daughter kidnapped kill...\n",
       "4    fantastic 7 point plan reform healthcare begin...\n",
       "Name: newstext, dtype: object"
      ]
     },
     "execution_count": 102,
     "metadata": {},
     "output_type": "execute_result"
    }
   ],
   "source": [
    "# remove rare_words\n",
    "df.newstext = df.newstext.apply( lambda t: \" \".join( word for word in t.split() if word not in rare_words))\n",
    "df.newstext.head(5)"
   ]
  },
  {
   "cell_type": "code",
   "execution_count": 103,
   "metadata": {},
   "outputs": [],
   "source": [
    "# remove numbers\n",
    "df.newstext = df.newstext.apply(lambda t: \" \".join(word for word in t.split() if not word.isnumeric() ) )"
   ]
  },
  {
   "cell_type": "code",
   "execution_count": 104,
   "metadata": {
    "scrolled": true
   },
   "outputs": [
    {
     "name": "stdout",
     "output_type": "stream",
     "text": [
      "[nltk_data] Downloading package wordnet to\n",
      "[nltk_data]     C:\\Users\\Adarsh\\AppData\\Roaming\\nltk_data...\n",
      "[nltk_data]   Package wordnet is already up-to-date!\n"
     ]
    },
    {
     "data": {
      "text/plain": [
       "0    muslim busted stole million govt benefit print...\n",
       "1    attorney general loretta lynch plead fifth att...\n",
       "2    breaking weiner cooperating fbi email investig...\n",
       "3    pin drop speech father daughter kidnapped kill...\n",
       "4    fantastic point plan reform healthcare begin b...\n",
       "Name: newstext, dtype: object"
      ]
     },
     "execution_count": 104,
     "metadata": {},
     "output_type": "execute_result"
    }
   ],
   "source": [
    "# lemmatization\n",
    "import nltk\n",
    "nltk.download('wordnet')\n",
    "from textblob import Word\n",
    "\n",
    "df.newstext = df.newstext.apply( lambda t : \" \".join([Word(word).lemmatize() for word in t.split()]))\n",
    "df.newstext.head(5)"
   ]
  },
  {
   "cell_type": "code",
   "execution_count": 105,
   "metadata": {
    "scrolled": true
   },
   "outputs": [
    {
     "data": {
      "text/plain": [
       "Reuters                       2307\n",
       "NPR                           2014\n",
       "Washington Post               1886\n",
       "Guardian                      1880\n",
       "CNN                           1624\n",
       "Atlantic                      1558\n",
       "New York Times                1428\n",
       "Fox News                      1132\n",
       "National Review                973\n",
       "Vox                            910\n",
       "presstv                        121\n",
       "dcclothesline                  100\n",
       "fellowshipoftheminds           100\n",
       "thesaker                       100\n",
       "awdnews                        100\n",
       "godlikeproductions             100\n",
       "abovetopsecret                 100\n",
       "davidstockmanscontracorner     100\n",
       "truthdig                       100\n",
       "thedailymash                   100\n",
       "disclose                       100\n",
       "elmundotoday                   100\n",
       "washingtonsblog                100\n",
       "occupydemocrats                100\n",
       "counterpunch                   100\n",
       "madworldnews                   100\n",
       "veteransnewsnow                100\n",
       "mintpressnews                  100\n",
       "thepoke                        100\n",
       "rbth                           100\n",
       "                              ... \n",
       "ewao                             2\n",
       "reductress                       2\n",
       "therundownlive                   2\n",
       "empireherald                     1\n",
       "the-newspapers                   1\n",
       "therebel                         1\n",
       "globalresearch                   1\n",
       "ncscooper                        1\n",
       "eyeopening                       1\n",
       "bigbluevision                    1\n",
       "truthkings                       1\n",
       "truthandaction                   1\n",
       "henrymakow                       1\n",
       "secretsofthefed                  1\n",
       "miniplanet                       1\n",
       "defenddemocracy                  1\n",
       "educateinspirechange             1\n",
       "allnewspipeline                  1\n",
       "christiantimesnewspaper          1\n",
       "rumormillnews                    1\n",
       "mediamass                        1\n",
       "worldnewspolitics                1\n",
       "bignuggetnews                    1\n",
       "topratedviral                    1\n",
       "proudemocrat                     1\n",
       "vonpress                         1\n",
       "ufoholic                         1\n",
       "projectveritas                   1\n",
       "redstatewatcher                  1\n",
       "truthfrequencyradio              1\n",
       "Name: publication, Length: 250, dtype: int64"
      ]
     },
     "execution_count": 105,
     "metadata": {},
     "output_type": "execute_result"
    }
   ],
   "source": [
    "df.publication.value_counts()"
   ]
  },
  {
   "cell_type": "code",
   "execution_count": 106,
   "metadata": {
    "scrolled": true
   },
   "outputs": [
    {
     "name": "stdout",
     "output_type": "stream",
     "text": [
      "Actual values of publication \n",
      "\n",
      "\n",
      " publication value counts:-\n",
      "\n",
      "Freq dist:-\n",
      "\n",
      " publication's dictionary with actual values and their corresponding freq. dist.:-\n",
      "{'100percentfedup': 0.0011792031445417189, '21stcenturywire': 0.0008576022869394318, 'Atlantic': 0.05567268179381812, 'CNN': 0.058031088082901555, 'Fox News': 0.0404502412006432, 'Guardian': 0.06717884581025549, 'NPR': 0.07196712524566733, 'National Review': 0.03476862604966947, 'New York Times': 0.051027336072896196, 'Reuters': 0.08243701983205289, 'Vox': 0.03251742004645346, 'Washington Post': 0.06739324638199035, 'abcnews': 7.146685724495266e-05, 'abeldanger': 0.0007146685724495265, 'abovetopsecret': 0.003573342862247633, 'activistpost': 0.003573342862247633, 'addictinginfo': 0.0007146685724495265, 'adobochronicles': 0.00046453457209219226, 'ahtribune': 0.002394139717705914, 'allnewspipeline': 3.573342862247633e-05, 'americanlookout': 0.00028586742897981064, 'americannews': 7.146685724495266e-05, 'americasfreedomfighters': 0.00010720028586742898, 'amren': 0.003573342862247633, 'amtvmedia': 0.003573342862247633, 'anonews': 0.00014293371448990532, 'anonhq': 0.001429337144899053, 'antiwar': 0.003573342862247633, 'awdnews': 0.003573342862247633, 'barenakedislam': 0.003573342862247633, 'beforeitsnews': 0.0016794711452563873, 'betootaadvocate': 0.00010720028586742898, 'bigbluevision': 3.573342862247633e-05, 'bignuggetnews': 3.573342862247633e-05, 'bipartisanreport': 0.00032160085760228694, 'blackagendareport': 0.0033589422905127746, 'blacklistednews': 0.003573342862247633, 'breitbart': 0.00014293371448990532, 'christiantimesnewspaper': 3.573342862247633e-05, 'chronicle': 0.00017866714311238162, 'clickhole': 0.003573342862247633, 'coasttocoastam': 0.0003930677148472396, 'collective-evolution': 0.003573342862247633, 'consciouslifenews': 7.146685724495266e-05, 'conservativedailypost': 0.0005360014293371449, 'conservativetribune': 0.003573342862247633, 'consortiumnews': 0.0028944077184205825, 'corbettreport': 0.0011792031445417189, 'countercurrents': 0.00014293371448990532, 'counterpunch': 0.003573342862247633, 'dailysquib': 0.001107736287296766, 'dailystormer': 0.0027872074325531533, 'dailywire': 0.003144541718777917, 'darkmoon': 0.0012149365731641952, 'davidduke': 0.001643737716633911, 'davidstockmanscontracorner': 0.003573342862247633, 'davidwolfe': 7.146685724495266e-05, 'dcclothesline': 0.003573342862247633, 'defenddemocracy': 3.573342862247633e-05, 'dennismichaellynch': 0.0005717348579596213, 'departed': 0.0005002680007146686, 'der-postillon': 0.002965874575665535, 'disclose': 0.003573342862247633, 'donaldtrumpnews': 0.00035733428622476324, 'drudgereport': 0.00010720028586742898, 'educateinspirechange': 3.573342862247633e-05, 'elmundotoday': 0.003573342862247633, 'empireherald': 3.573342862247633e-05, 'endingthefed': 0.001322136859031624, 'endoftheamericandream': 0.0010362694300518134, 'endtime': 0.0033589422905127746, 'eutimes': 0.003573342862247633, 'ewao': 7.146685724495266e-05, 'eyeopening': 3.573342862247633e-05, 'fellowshipoftheminds': 0.003573342862247633, 'filmsforaction': 0.002322672860460961, 'fognews': 0.0011792031445417189, 'foreignpolicyjournal': 0.0007861354296944792, 'fort-russ': 0.003394675719135251, 'freedomoutpost': 0.003573342862247633, 'fromthetrenchesworldreport': 0.003573342862247633, 'frontpagemag': 0.003573342862247633, 'galacticconnection': 0.003573342862247633, 'geoengineeringwatch': 0.0006432017152045739, 'globalresearch': 3.573342862247633e-05, 'godlikeproductions': 0.003573342862247633, 'gomerblog': 0.00028586742897981064, 'govtslaves': 0.003573342862247633, 'greanvillepost': 0.003573342862247633, 'guardianlv': 0.002322672860460961, 'gulagbound': 0.001322136859031624, 'hangthebankers': 0.0002501340003573343, 'healthimpactnews': 0.001429337144899053, 'henrymakow': 3.573342862247633e-05, 'humansarefree': 0.003573342862247633, 'ifyouonlynews': 0.003573342862247633, 'ihavethetruth': 0.003573342862247633, 'ijr': 0.003573342862247633, 'in5d': 7.146685724495266e-05, 'indiaarising': 0.00014293371448990532, 'informationclearinghouse': 0.0035376094336251563, 'infowars': 0.003573342862247633, 'intellihub': 0.002644273718063248, 'intrepidreport': 0.002072538860103627, 'investmentresearchdynamics': 0.0010005360014293371, 'investmentwatchblog': 0.003573342862247633, 'jewsnews': 0.003573342862247633, 'journal-neo': 0.0035376094336251563, 'katehon': 0.0006432017152045739, 'kingworldnews': 0.0027157405753082007, 'lewrockwell': 0.003573342862247633, 'liberalamerica': 0.003573342862247633, 'libertyblitzkrieg': 0.0008218688583169555, 'libertynews': 0.001429337144899053, 'libertyunyielding': 0.003573342862247633, 'libertywritersnews': 0.0005360014293371449, 'madworldnews': 0.003573342862247633, 'magafeed': 0.00021440057173485795, 'mediamass': 3.573342862247633e-05, 'miniplanet': 3.573342862247633e-05, 'mintpressnews': 0.003573342862247633, 'moonofalabama': 0.0008933357155619082, 'morningnewsusa': 0.00035733428622476324, 'nakedcapitalism': 0.003573342862247633, 'naturalblaze': 0.003573342862247633, 'naturalnews': 0.003573342862247633, 'ncscooper': 3.573342862247633e-05, 'newcenturytimes': 0.00046453457209219226, 'newsbiscuit': 0.003573342862247633, 'newstarget': 0.00017866714311238162, 'newsthump': 0.002608540289440772, 'nowtheendbegins': 0.0027514740039306772, 'nutritionfacts': 0.0004288011434697159, 'occupydemocrats': 0.003573342862247633, 'off-guardian': 0.00021440057173485795, 'opednews': 0.003573342862247633, 'orientalreview': 0.00035733428622476324, 'other98': 0.00014293371448990532, 'pakalertpress': 0.003573342862247633, 'patriotrising': 0.0005002680007146686, 'paulcraigroberts': 0.00175093800250134, 'politicususa': 0.003573342862247633, 'pravda': 0.003573342862247633, 'pravdareport': 0.003573342862247633, 'prepperwebsite': 0.00010720028586742898, 'presidentialvoting2016': 7.146685724495266e-05, 'presstv': 0.004323744863319635, 'prisonplanet': 0.002930141147043059, 'projectveritas': 3.573342862247633e-05, 'proudemocrat': 3.573342862247633e-05, 'rbth': 0.003573342862247633, 'readynutrition': 0.0009648025728068608, 'realfarmacy': 0.002537073432195819, 'redflagnews': 0.0006432017152045739, 'redstatewatcher': 3.573342862247633e-05, 'reductress': 7.146685724495266e-05, 'regated': 0.00014293371448990532, 'rense': 7.146685724495266e-05, 'returnofkings': 0.003573342862247633, 'rinf': 0.003573342862247633, 'ronpaulinstitute': 0.0021440057173485795, 'rt': 0.003573342862247633, 'rumormillnews': 3.573342862247633e-05, 'russia-direct': 0.0006789351438270502, 'russia-insider': 0.003573342862247633, 'satirewire': 0.00010720028586742898, 'secretsofthefed': 3.573342862247633e-05, 'sgtreport': 0.0005002680007146686, 'shadowproof': 0.0017152045738788636, 'shiftfrequency': 0.003573342862247633, 'shtfplan': 0.003573342862247633, 'silverdoctors': 0.003573342862247633, 'sott': 0.003573342862247633, 'southfront': 0.00021440057173485795, 'spinzon': 0.0002501340003573343, 'sputniknews': 0.003573342862247633, 'strategic-culture': 0.00032160085760228694, 'survivopedia': 0.0010720028586742897, 'the-newspapers': 3.573342862247633e-05, 'theantimedia': 0.00028586742897981064, 'thecommonsenseshow': 0.003573342862247633, 'thecontroversialfiles': 0.0019296051456137216, 'thedailybell': 0.0012506700017866715, 'thedailymash': 0.003573342862247633, 'thedailysheeple': 0.003573342862247633, 'thedailywtf': 0.0007861354296944792, 'theduran': 0.0005002680007146686, 'theearthchild': 0.00017866714311238162, 'theeconomiccollapseblog': 0.0013936037162765767, 'theeventchronicle': 0.003573342862247633, 'thefederalistpapers': 0.003573342862247633, 'thefreethoughtproject': 0.003573342862247633, 'thelastlineofdefense': 0.00014293371448990532, 'themindunleashed': 0.0026800071466857246, 'thenewamerican': 0.003573342862247633, 'theonion': 0.003573342862247633, 'thepeoplescube': 0.001107736287296766, 'thepoke': 0.003573342862247633, 'therebel': 3.573342862247633e-05, 'therundownlive': 7.146685724495266e-05, 'therussophile': 0.0022512060032160086, 'thesaker': 0.003573342862247633, 'thesleuthjournal': 0.003573342862247633, 'thespoof': 0.003573342862247633, 'thetruthseeker': 0.003573342862247633, 'theunrealtimes': 0.0019296051456137216, 'topinfopost': 0.003573342862247633, 'topratedviral': 3.573342862247633e-05, 'toprightnews': 0.00014293371448990532, 'trueactivist': 0.003573342862247633, 'trunews': 0.003573342862247633, 'truthandaction': 3.573342862247633e-05, 'truthbroadcastnetwork': 0.0012864034304091478, 'truthdig': 0.003573342862247633, 'truthfeed': 0.003573342862247633, 'truthfrequencyradio': 3.573342862247633e-05, 'truthkings': 3.573342862247633e-05, 'twitchy': 0.003573342862247633, 'ufoholic': 3.573342862247633e-05, 'undergroundhealth': 0.0006789351438270502, 'unz': 0.003573342862247633, 'usanewsflash': 0.00021440057173485795, 'usanewsinsider': 0.00010720028586742898, 'usapoliticsnow': 0.00032160085760228694, 'usasupreme': 0.00010720028586742898, 'usatwentyfour': 0.00014293371448990532, 'usuncut': 0.0007861354296944792, 'usviewer': 7.146685724495266e-05, 'vdare': 0.003573342862247633, 'veteransnewsnow': 0.003573342862247633, 'veteranstoday': 0.003573342862247633, 'vigilantcitizen': 7.146685724495266e-05, 'viralliberty': 0.00010720028586742898, 'voltairenet': 0.003573342862247633, 'vonpress': 3.573342862247633e-05, 'wakingtimes': 0.0014650705735215295, 'washingtonsblog': 0.003573342862247633, 'waterfordwhispersnews': 0.003573342862247633, 'wearechange': 0.0035376094336251563, 'westernjournalism': 0.0003930677148472396, 'whatreallyhappened': 0.0005002680007146686, 'whydontyoutrythis': 0.002394139717705914, 'wikileaks': 0.00028586742897981064, 'winningdemocrats': 7.146685724495266e-05, 'wnd': 0.003573342862247633, 'worldnewspolitics': 3.573342862247633e-05, 'worldtruth': 0.003573342862247633, 'wundergroundmusic': 7.146685724495266e-05, 'yournewswire': 0.003573342862247633, 'zerohedge': 0.0005002680007146686}\n"
     ]
    },
    {
     "data": {
      "text/html": [
       "<div>\n",
       "<style scoped>\n",
       "    .dataframe tbody tr th:only-of-type {\n",
       "        vertical-align: middle;\n",
       "    }\n",
       "\n",
       "    .dataframe tbody tr th {\n",
       "        vertical-align: top;\n",
       "    }\n",
       "\n",
       "    .dataframe thead th {\n",
       "        text-align: right;\n",
       "    }\n",
       "</style>\n",
       "<table border=\"1\" class=\"dataframe\">\n",
       "  <thead>\n",
       "    <tr style=\"text-align: right;\">\n",
       "      <th></th>\n",
       "      <th>publication</th>\n",
       "      <th>label</th>\n",
       "      <th>newstext</th>\n",
       "      <th>uppercase_count</th>\n",
       "      <th>word_count</th>\n",
       "      <th>avg_word_len</th>\n",
       "      <th>publication_num</th>\n",
       "    </tr>\n",
       "  </thead>\n",
       "  <tbody>\n",
       "    <tr>\n",
       "      <th>0</th>\n",
       "      <td>100percentfedup</td>\n",
       "      <td>fake</td>\n",
       "      <td>muslim busted stole million govt benefit print...</td>\n",
       "      <td>2</td>\n",
       "      <td>95</td>\n",
       "      <td>4.873684</td>\n",
       "      <td>0.001179</td>\n",
       "    </tr>\n",
       "    <tr>\n",
       "      <th>1</th>\n",
       "      <td>100percentfedup</td>\n",
       "      <td>fake</td>\n",
       "      <td>attorney general loretta lynch plead fifth att...</td>\n",
       "      <td>2</td>\n",
       "      <td>287</td>\n",
       "      <td>5.432056</td>\n",
       "      <td>0.001179</td>\n",
       "    </tr>\n",
       "    <tr>\n",
       "      <th>2</th>\n",
       "      <td>100percentfedup</td>\n",
       "      <td>fake</td>\n",
       "      <td>breaking weiner cooperating fbi email investig...</td>\n",
       "      <td>4</td>\n",
       "      <td>233</td>\n",
       "      <td>5.128755</td>\n",
       "      <td>0.001179</td>\n",
       "    </tr>\n",
       "    <tr>\n",
       "      <th>3</th>\n",
       "      <td>100percentfedup</td>\n",
       "      <td>fake</td>\n",
       "      <td>pin drop speech father daughter kidnapped kill...</td>\n",
       "      <td>12</td>\n",
       "      <td>69</td>\n",
       "      <td>4.753623</td>\n",
       "      <td>0.001179</td>\n",
       "    </tr>\n",
       "    <tr>\n",
       "      <th>4</th>\n",
       "      <td>100percentfedup</td>\n",
       "      <td>fake</td>\n",
       "      <td>fantastic point plan reform healthcare begin b...</td>\n",
       "      <td>14</td>\n",
       "      <td>346</td>\n",
       "      <td>5.329480</td>\n",
       "      <td>0.001179</td>\n",
       "    </tr>\n",
       "  </tbody>\n",
       "</table>\n",
       "</div>"
      ],
      "text/plain": [
       "       publication label                                           newstext  \\\n",
       "0  100percentfedup  fake  muslim busted stole million govt benefit print...   \n",
       "1  100percentfedup  fake  attorney general loretta lynch plead fifth att...   \n",
       "2  100percentfedup  fake  breaking weiner cooperating fbi email investig...   \n",
       "3  100percentfedup  fake  pin drop speech father daughter kidnapped kill...   \n",
       "4  100percentfedup  fake  fantastic point plan reform healthcare begin b...   \n",
       "\n",
       "   uppercase_count  word_count  avg_word_len  publication_num  \n",
       "0                2          95      4.873684         0.001179  \n",
       "1                2         287      5.432056         0.001179  \n",
       "2                4         233      5.128755         0.001179  \n",
       "3               12          69      4.753623         0.001179  \n",
       "4               14         346      5.329480         0.001179  "
      ]
     },
     "execution_count": 106,
     "metadata": {},
     "output_type": "execute_result"
    }
   ],
   "source": [
    "# Frequency distribution to convert publication into numeric feature\n",
    "publication_keys = df['publication'].drop_duplicates().values.tolist()\n",
    "publication_keys.sort()\n",
    "print(\"Actual values of publication \\n\")\n",
    "#print(publication_keys)\n",
    "\n",
    "# put count of each value of publication in a list\n",
    "publication_values = df.publication.value_counts().sort_index().tolist()\n",
    "print(\"\\n publication value counts:-\")\n",
    "#print(publication_values)\n",
    "\n",
    "# calculate frequency distribution\n",
    "publication_values = [x / sum(publication_values) for x in publication_values]\n",
    "print(\"\\nFreq dist:-\")\n",
    "#print(publication_values)\n",
    "\n",
    "publication_dict = dict(zip(publication_keys, publication_values))\n",
    "print(\"\\n publication's dictionary with actual values and their corresponding freq. dist.:-\")\n",
    "print(publication_dict)\n",
    "\n",
    "# now map these freq dist valeus to the dataframe \n",
    "# replace values of publication with their freq dist\n",
    "df['publication_num'] = df['publication'].map(publication_dict)\n",
    "df.head(5)"
   ]
  },
  {
   "cell_type": "code",
   "execution_count": 107,
   "metadata": {
    "scrolled": true
   },
   "outputs": [
    {
     "data": {
      "text/plain": [
       "1    15712\n",
       "0    12273\n",
       "Name: label, dtype: int64"
      ]
     },
     "execution_count": 107,
     "metadata": {},
     "output_type": "execute_result"
    }
   ],
   "source": [
    "# Convert our target -- label (categorical) into numeric format\n",
    "df['label'] = df['label'].factorize()[0]\n",
    "df['label'].value_counts()\n",
    "\n",
    "# real    15712\n",
    "# fake    12273"
   ]
  },
  {
   "cell_type": "code",
   "execution_count": 108,
   "metadata": {},
   "outputs": [
    {
     "data": {
      "text/plain": [
       "[0, 0, 0, 0, 0, 0, 0]"
      ]
     },
     "execution_count": 108,
     "metadata": {},
     "output_type": "execute_result"
    }
   ],
   "source": [
    "df.isnull().sum().tolist()"
   ]
  },
  {
   "cell_type": "code",
   "execution_count": 109,
   "metadata": {},
   "outputs": [
    {
     "data": {
      "text/html": [
       "<div>\n",
       "<style scoped>\n",
       "    .dataframe tbody tr th:only-of-type {\n",
       "        vertical-align: middle;\n",
       "    }\n",
       "\n",
       "    .dataframe tbody tr th {\n",
       "        vertical-align: top;\n",
       "    }\n",
       "\n",
       "    .dataframe thead th {\n",
       "        text-align: right;\n",
       "    }\n",
       "</style>\n",
       "<table border=\"1\" class=\"dataframe\">\n",
       "  <thead>\n",
       "    <tr style=\"text-align: right;\">\n",
       "      <th></th>\n",
       "      <th>publication</th>\n",
       "      <th>label</th>\n",
       "      <th>newstext</th>\n",
       "      <th>uppercase_count</th>\n",
       "      <th>word_count</th>\n",
       "      <th>avg_word_len</th>\n",
       "      <th>publication_num</th>\n",
       "    </tr>\n",
       "  </thead>\n",
       "  <tbody>\n",
       "    <tr>\n",
       "      <th>0</th>\n",
       "      <td>100percentfedup</td>\n",
       "      <td>0</td>\n",
       "      <td>muslim busted stole million govt benefit print...</td>\n",
       "      <td>2</td>\n",
       "      <td>95</td>\n",
       "      <td>4.873684</td>\n",
       "      <td>0.001179</td>\n",
       "    </tr>\n",
       "    <tr>\n",
       "      <th>1</th>\n",
       "      <td>100percentfedup</td>\n",
       "      <td>0</td>\n",
       "      <td>attorney general loretta lynch plead fifth att...</td>\n",
       "      <td>2</td>\n",
       "      <td>287</td>\n",
       "      <td>5.432056</td>\n",
       "      <td>0.001179</td>\n",
       "    </tr>\n",
       "    <tr>\n",
       "      <th>2</th>\n",
       "      <td>100percentfedup</td>\n",
       "      <td>0</td>\n",
       "      <td>breaking weiner cooperating fbi email investig...</td>\n",
       "      <td>4</td>\n",
       "      <td>233</td>\n",
       "      <td>5.128755</td>\n",
       "      <td>0.001179</td>\n",
       "    </tr>\n",
       "    <tr>\n",
       "      <th>3</th>\n",
       "      <td>100percentfedup</td>\n",
       "      <td>0</td>\n",
       "      <td>pin drop speech father daughter kidnapped kill...</td>\n",
       "      <td>12</td>\n",
       "      <td>69</td>\n",
       "      <td>4.753623</td>\n",
       "      <td>0.001179</td>\n",
       "    </tr>\n",
       "    <tr>\n",
       "      <th>4</th>\n",
       "      <td>100percentfedup</td>\n",
       "      <td>0</td>\n",
       "      <td>fantastic point plan reform healthcare begin b...</td>\n",
       "      <td>14</td>\n",
       "      <td>346</td>\n",
       "      <td>5.329480</td>\n",
       "      <td>0.001179</td>\n",
       "    </tr>\n",
       "  </tbody>\n",
       "</table>\n",
       "</div>"
      ],
      "text/plain": [
       "       publication  label                                           newstext  \\\n",
       "0  100percentfedup      0  muslim busted stole million govt benefit print...   \n",
       "1  100percentfedup      0  attorney general loretta lynch plead fifth att...   \n",
       "2  100percentfedup      0  breaking weiner cooperating fbi email investig...   \n",
       "3  100percentfedup      0  pin drop speech father daughter kidnapped kill...   \n",
       "4  100percentfedup      0  fantastic point plan reform healthcare begin b...   \n",
       "\n",
       "   uppercase_count  word_count  avg_word_len  publication_num  \n",
       "0                2          95      4.873684         0.001179  \n",
       "1                2         287      5.432056         0.001179  \n",
       "2                4         233      5.128755         0.001179  \n",
       "3               12          69      4.753623         0.001179  \n",
       "4               14         346      5.329480         0.001179  "
      ]
     },
     "execution_count": 109,
     "metadata": {},
     "output_type": "execute_result"
    }
   ],
   "source": [
    "df.head(5)"
   ]
  },
  {
   "cell_type": "code",
   "execution_count": 110,
   "metadata": {},
   "outputs": [],
   "source": [
    "tfidf = TfidfVectorizer()\n",
    "tfidf_features = tfidf.fit_transform( df.newstext ).toarray()\n",
    "#tfidf_df = pd.DataFrame(features)"
   ]
  },
  {
   "cell_type": "code",
   "execution_count": 111,
   "metadata": {},
   "outputs": [
    {
     "data": {
      "text/plain": [
       "(27985, 14297)"
      ]
     },
     "execution_count": 111,
     "metadata": {},
     "output_type": "execute_result"
    }
   ],
   "source": [
    "tfidf_features.shape"
   ]
  },
  {
   "cell_type": "code",
   "execution_count": 112,
   "metadata": {},
   "outputs": [],
   "source": [
    "extracted_features = df[[ 'publication_num', 'uppercase_count', 'word_count' , 'avg_word_len']]"
   ]
  },
  {
   "cell_type": "code",
   "execution_count": 113,
   "metadata": {},
   "outputs": [
    {
     "data": {
      "text/plain": [
       "(27985, 4)"
      ]
     },
     "execution_count": 113,
     "metadata": {},
     "output_type": "execute_result"
    }
   ],
   "source": [
    "extracted_features.shape"
   ]
  },
  {
   "cell_type": "code",
   "execution_count": 114,
   "metadata": {},
   "outputs": [],
   "source": [
    "#final_features = pd.concat([features_df, other_features], axis=1)\n",
    "#final_features.shape\n",
    "#final_features.head(15)"
   ]
  },
  {
   "cell_type": "code",
   "execution_count": 115,
   "metadata": {},
   "outputs": [],
   "source": [
    "#ind = final_features.index.tolist()"
   ]
  },
  {
   "cell_type": "code",
   "execution_count": 116,
   "metadata": {},
   "outputs": [],
   "source": [
    "#ind = ind[27985:]\n",
    "#print(len(ind))\n",
    "#print(ind)"
   ]
  },
  {
   "cell_type": "code",
   "execution_count": 117,
   "metadata": {
    "scrolled": false
   },
   "outputs": [],
   "source": [
    "#final_features.drop(final_features.index[ind])"
   ]
  },
  {
   "cell_type": "code",
   "execution_count": 118,
   "metadata": {
    "scrolled": true
   },
   "outputs": [],
   "source": [
    "#final_features.isnull().sum().tolist()"
   ]
  },
  {
   "cell_type": "code",
   "execution_count": 119,
   "metadata": {
    "scrolled": true
   },
   "outputs": [],
   "source": [
    "#final_features.dropna(how=\"any\")"
   ]
  },
  {
   "cell_type": "code",
   "execution_count": 120,
   "metadata": {},
   "outputs": [],
   "source": [
    "#final_features.isnull().sum().tolist()"
   ]
  },
  {
   "cell_type": "code",
   "execution_count": 121,
   "metadata": {},
   "outputs": [],
   "source": [
    "X_train_tfidf, X_test_tfidf, y_train_tfidf, y_test_tfidf = train_test_split( tfidf_features , \n",
    "                                                                            df.label, test_size = 0.25,\n",
    "                                                                            random_state = 0)"
   ]
  },
  {
   "cell_type": "code",
   "execution_count": 122,
   "metadata": {},
   "outputs": [],
   "source": [
    "X_train_ex, X_test_ex, y_train_ex, y_test_ex = train_test_split( extracted_features , \n",
    "                                                                            df.label, test_size = 0.25,\n",
    "                                                                            random_state = 0)"
   ]
  },
  {
   "cell_type": "code",
   "execution_count": 124,
   "metadata": {},
   "outputs": [
    {
     "name": "stderr",
     "output_type": "stream",
     "text": [
      "C:\\ProgramData\\Anaconda3\\lib\\site-packages\\sklearn\\linear_model\\logistic.py:433: FutureWarning: Default solver will be changed to 'lbfgs' in 0.22. Specify a solver to silence this warning.\n",
      "  FutureWarning)\n"
     ]
    },
    {
     "name": "stdout",
     "output_type": "stream",
     "text": [
      "Accuracy of LogisticRegression on TF-IDF = \n",
      "0.9161069029584108\n",
      "\n",
      "\n",
      "Accuracy of LinearSVC on TF-IDF = \n",
      "0.9328283550092897\n"
     ]
    }
   ],
   "source": [
    "# training on tfidf\n",
    "\n",
    "lr_tfidf = LogisticRegression(random_state=0)\n",
    "lr_tfidf.fit(X_train_tfidf, y_train_tfidf)\n",
    "print(\"Accuracy of LogisticRegression on TF-IDF = \")\n",
    "print(lr_tfidf.score(X_test_tfidf, y_test_tfidf))\n",
    "print(\"\\n\")\n",
    "\n",
    "\n",
    "svm_tfidf = LinearSVC()\n",
    "svm_tfidf.fit( X_train_tfidf, y_train_tfidf )\n",
    "print(\"Accuracy of LinearSVC on TF-IDF = \")\n",
    "print(svm_tfidf.score(X_test_tfidf, y_test_tfidf))\n"
   ]
  },
  {
   "cell_type": "code",
   "execution_count": 125,
   "metadata": {
    "scrolled": true
   },
   "outputs": [
    {
     "name": "stdout",
     "output_type": "stream",
     "text": [
      "Accuracy of RandomForestClassifier on other extracted features = \n",
      "1.0\n",
      "\n",
      "\n",
      "Accuracy of LogisticRegression on other extracted features = \n",
      "0.9941403458625125\n"
     ]
    },
    {
     "name": "stderr",
     "output_type": "stream",
     "text": [
      "C:\\ProgramData\\Anaconda3\\lib\\site-packages\\sklearn\\linear_model\\logistic.py:433: FutureWarning: Default solver will be changed to 'lbfgs' in 0.22. Specify a solver to silence this warning.\n",
      "  FutureWarning)\n"
     ]
    }
   ],
   "source": [
    "# training on Extracted features\n",
    "rf_ex = RandomForestClassifier(n_estimators=200, max_depth=3, random_state=0)\n",
    "rf_ex.fit( X_train_ex, y_train_ex )\n",
    "print(\"Accuracy of RandomForestClassifier on other extracted features = \")\n",
    "print( rf_ex.score(X_test_ex, y_test_ex) )\n",
    "print(\"\\n\")\n",
    "\n",
    "\n",
    "lr_ex = LogisticRegression(random_state=0)\n",
    "lr_ex.fit(X_train_ex, y_train_ex)\n",
    "print(\"Accuracy of LogisticRegression on other extracted features = \")\n",
    "print( lr_ex.score(X_test_ex, y_test_ex) )\n"
   ]
  }
 ],
 "metadata": {
  "kernelspec": {
   "display_name": "Python 3",
   "language": "python",
   "name": "python3"
  },
  "language_info": {
   "codemirror_mode": {
    "name": "ipython",
    "version": 3
   },
   "file_extension": ".py",
   "mimetype": "text/x-python",
   "name": "python",
   "nbconvert_exporter": "python",
   "pygments_lexer": "ipython3",
   "version": "3.6.6"
  }
 },
 "nbformat": 4,
 "nbformat_minor": 2
}
